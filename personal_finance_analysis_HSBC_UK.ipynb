{
 "cells": [
  {
   "cell_type": "markdown",
   "metadata": {},
   "source": [
    "### Usage:\n",
    "  - from HSBC bank account download TransHist file (can be used with other accounts with minor tweaks)\n",
    "  - run notebook with respective file\n",
    "  - use at your own risk"
   ]
  },
  {
   "cell_type": "markdown",
   "metadata": {},
   "source": [
    "### Imports"
   ]
  },
  {
   "cell_type": "code",
   "execution_count": null,
   "metadata": {},
   "outputs": [],
   "source": [
    "import pandas as pd\n",
    "import numpy as np\n",
    "import warnings\n",
    "import seaborn as sns; sns.set()\n",
    "import matplotlib.pyplot as plt\n",
    "warnings.filterwarnings('ignore')\n",
    "%matplotlib inline\n",
    "%config InlineBackend.figure_format = 'svg'\n",
    "pd.options.display.max_rows = 999"
   ]
  },
  {
   "cell_type": "code",
   "execution_count": null,
   "metadata": {},
   "outputs": [],
   "source": [
    "##### Read in file containing all transctions\n",
    "\n",
    "bk = pd.read_csv(\"TransHist_master_2021.csv\", header=None)\n",
    "bk.head(10)\n",
    "\n",
    "# name columns\n",
    "bk.columns = [\"Date\", \"Description\", \"Debit\"]\n",
    "bk[\"Type\"] = bk[\"Description\"].str[-3:]\n",
    "bk[\"Description\"] = bk[\"Description\"].str[:-3]\n",
    "\n",
    "entry_is_credit_mask = ~bk[\"Debit\"].str.contains(\"-\")\n",
    "bk.loc[entry_is_credit_mask, \"Credit\"] = bk.loc[entry_is_credit_mask, \"Debit\"]\n",
    "entry_is_debit_mask = ~bk[\"Debit\"].str.contains(\"-\")\n",
    "bk.loc[entry_is_debit_mask, \"Debit\"] = \"NaN\"\n",
    "bk[\"Debit\"] = bk[\"Debit\"].str.replace(\"-\", \"\")\n",
    "\n",
    "bk = bk[[\"Date\", \"Type\", \"Description\", \"Debit\", \"Credit\"]]\n",
    "\n",
    "# Convert date/datetime and fill in values in missing rows\n",
    "\n",
    "bk['Date'] = pd.to_datetime(bk['Date'], dayfirst=True)\n",
    "bk.sort_values(by=['Date'], inplace=True, ascending=False)\n",
    "\n",
    "# drop duplicate rows\n",
    "\n",
    "bk = bk.drop_duplicates(subset=None, keep='first', inplace=False)\n",
    "\n",
    "bk.head(10)"
   ]
  },
  {
   "cell_type": "code",
   "execution_count": null,
   "metadata": {},
   "outputs": [],
   "source": [
    "bk_one = bk"
   ]
  },
  {
   "cell_type": "markdown",
   "metadata": {},
   "source": [
    "#### Convert date/datetime and create new columns with year and month"
   ]
  },
  {
   "cell_type": "code",
   "execution_count": null,
   "metadata": {},
   "outputs": [],
   "source": [
    "bk_one['Date'] = pd.to_datetime(bk_one['Date'], dayfirst=True)\n",
    "bk_one.sort_values(by=['Date'], inplace=True, ascending=False)"
   ]
  },
  {
   "cell_type": "code",
   "execution_count": null,
   "metadata": {},
   "outputs": [],
   "source": [
    "bk_one[\"Date\"]= pd.to_datetime(bk_one[\"Date\"], dayfirst=True) \n",
    "bk_one['Year'] = bk_one['Date'].dt.year\n",
    "bk_one['Month'] = bk_one['Date'].dt.month"
   ]
  },
  {
   "cell_type": "code",
   "execution_count": null,
   "metadata": {},
   "outputs": [],
   "source": [
    "bk_one.head(10)"
   ]
  },
  {
   "cell_type": "markdown",
   "metadata": {},
   "source": [
    "#### Convert columns 1, 3 and 4 to strings and replace nan with empty strings"
   ]
  },
  {
   "cell_type": "code",
   "execution_count": null,
   "metadata": {},
   "outputs": [],
   "source": [
    "bk_one.iloc[:,1] = bk_one.iloc[:,1].astype(str)\n",
    "bk_one.iloc[:,3] = bk_one.iloc[:,3].astype(str)\n",
    "bk_one.iloc[:,4] = bk_one.iloc[:,4].astype(str)\n",
    "bk_one.iloc[:,3] = bk_one.iloc[:,3].str.replace(\",\", \"\")\n",
    "#bk.iloc[:,3] = bk.iloc[:,3].astype(float)\n",
    "\n",
    "bk_one.iloc[:,3] = bk_one.iloc[:,3].str.replace(\"nan\", \"\")\n",
    "bk_one.iloc[:,4] = bk_one.iloc[:,4].str.replace(\"nan\", \"\")"
   ]
  },
  {
   "cell_type": "markdown",
   "metadata": {},
   "source": [
    "#### String formatting in columns Debit, Credit and Description"
   ]
  },
  {
   "cell_type": "code",
   "execution_count": null,
   "metadata": {},
   "outputs": [],
   "source": [
    "bk_one[\"Debit\"] = bk_one[\"Debit\"].str.replace(\",\", \"\")\n",
    "bk_one[\"Debit\"] = bk_one[\"Debit\"].str.replace(\"NaN\", \"\")\n",
    "bk_one[\"Credit\"] = bk_one[\"Credit\"].str.replace(\",\", \"\")\n",
    "bk_one[\"Description\"] = bk_one[\"Description\"].str.replace(\"H\\*G\", \"H3G\")\n",
    "bk_one[\"Description\"] = bk_one[\"Description\"].str.replace(\"*\", \"\")\n",
    "bk_one['Description'] = bk_one['Description'].astype(str)\n",
    "bk_one['Description'] = bk_one['Description'].map(lambda element: \" \".join(element.split()))\n",
    "bk_one['Description'] = bk_one['Description'].str.upper()"
   ]
  },
  {
   "cell_type": "markdown",
   "metadata": {},
   "source": [
    "#### Coerce Debit and Credit column to float for calculations"
   ]
  },
  {
   "cell_type": "code",
   "execution_count": null,
   "metadata": {},
   "outputs": [],
   "source": [
    "bk_one['Debit'] = pd.to_numeric(bk_one['Debit'])\n",
    "bk_one[\"Credit\"] = pd.to_numeric(bk_one[\"Credit\"])"
   ]
  },
  {
   "cell_type": "markdown",
   "metadata": {},
   "source": [
    "#### Intermediate check on dataframe bk_one"
   ]
  },
  {
   "cell_type": "code",
   "execution_count": null,
   "metadata": {},
   "outputs": [],
   "source": [
    "bk_one.head(10)"
   ]
  },
  {
   "cell_type": "markdown",
   "metadata": {},
   "source": [
    "#### Drop all rows with nan values in column 1 (none should be there, but just in case), reset index"
   ]
  },
  {
   "cell_type": "code",
   "execution_count": null,
   "metadata": {},
   "outputs": [],
   "source": [
    "bk_one = bk_one[~bk_one.iloc[:,1].str.contains(\"nan\")]\n",
    "bk_one = bk_one.reset_index(drop=True)"
   ]
  },
  {
   "cell_type": "markdown",
   "metadata": {},
   "source": [
    "### Analysis"
   ]
  },
  {
   "cell_type": "markdown",
   "metadata": {},
   "source": [
    "#### Categorise the transactions\n",
    "##### Transactions described in column \"Description\" are categorized according to definitions below. The below categories are examples only - tweak and setup as required. "
   ]
  },
  {
   "cell_type": "code",
   "execution_count": null,
   "metadata": {},
   "outputs": [],
   "source": [
    "#create labels and categories as required\n",
    "#_list_pattern contains dummy entries, change as required\n",
    "#categorise items based on column bk_one[\"Description\"]\n",
    "\n",
    "# label items as grocery category\n",
    "grocery_list_pattern = [\"FOODSH\", \"GROCERYSTO\"]\n",
    "grocery_pattern = '|'.join(grocery_list_pattern)\n",
    "grocery_mask = bk_one[\"Description\"].str.contains(grocery_pattern)\n",
    "bk_one.loc[grocery_mask, 'Category'] = \"Grocery\"\n",
    "\n",
    "# label items as rent category\n",
    "rent_list_pattern = [\"LANDLORD\"]\n",
    "rent_pattern = '|'.join(rent_list_pattern)\n",
    "rent_mask = bk_one[\"Description\"].str.contains(rent_pattern)\n",
    "bk_one.loc[rent_mask, 'Category'] = \"Rent\"\n",
    "\n",
    "# label items as council tax category\n",
    "counciltax_list_pattern = [\"COUNCIL\"]\n",
    "counciltax_pattern = '|'.join(counciltax_list_pattern)\n",
    "counciltax_mask = bk_one[\"Description\"].str.contains(counciltax_pattern)\n",
    "bk_one.loc[counciltax_mask, 'Category'] = \"Council tax\"\n",
    "\n",
    "# label items as Internet/Phone category\n",
    "inter_phone_list_pattern = [\"PHONE\"]\n",
    "inter_phone_pattern = '|'.join(inter_phone_list_pattern)\n",
    "inter_phone_mask = bk_one[\"Description\"].str.contains(inter_phone_pattern)\n",
    "bk_one.loc[inter_phone_mask, 'Category'] = \"Internet/Phone\"\n",
    "\n",
    "# label items as other category\n",
    "other_list_pattern = [\"OTHER\"] \n",
    "other_pattern = '|'.join(other_list_pattern)\n",
    "other_mask = bk_one[\"Description\"].str.contains(other_pattern)\n",
    "bk_one.loc[other_mask, 'Category'] = \"Other\"\n",
    "\n",
    "# label items as streaming service category\n",
    "stream_list_pattern = [\"NETFLIX\"]\n",
    "stream_pattern = '|'.join(stream_list_pattern)\n",
    "stream_mask = bk_one[\"Description\"].str.contains(stream_pattern)\n",
    "bk_one.loc[stream_mask, 'Category'] = \"Streaming Service\"\n",
    "\n",
    "# label items as clothes category\n",
    "clothes_list_pattern = [\"CLOTHES\"]\n",
    "clothes_pattern = '|'.join(clothes_list_pattern)\n",
    "clothes_mask = bk_one[\"Description\"].str.contains(clothes_pattern)\n",
    "bk_one.loc[clothes_mask, 'Category'] = \"Clothes\"\n",
    "\n",
    "# label items as takeaway/eat out service category\n",
    "takeaway_list_pattern = [\"STARBUCKS\"]\n",
    "takeaway_pattern = '|'.join(takeaway_list_pattern)\n",
    "takeaway_mask = bk_one[\"Description\"].str.contains(takeaway_pattern)\n",
    "bk_one.loc[takeaway_mask, 'Category'] = \"Takeaway/Eat-out\"\n",
    "\n",
    "# label items as cash withdrawal service category\n",
    "cash_list_pattern = [\"CASH\"]\n",
    "cash_pattern = '|'.join(cash_list_pattern)\n",
    "cash_mask = bk_one[\"Description\"].str.contains(cash_pattern)\n",
    "bk_one.loc[cash_mask, 'Category'] = \"Cash ATM\"\n",
    "\n",
    "# label items as car w/o petrol service category\n",
    "car_list_pattern = [\"MOT\", \"CAR INSURANCE\"]\n",
    "car_pattern = '|'.join(car_list_pattern)\n",
    "car_mask = bk_one[\"Description\"].str.contains(car_pattern)\n",
    "bk_one.loc[car_mask, 'Category'] = \"Car w/o petrol\"\n",
    "\n",
    "# label items as petrol service category\n",
    "petrol_list_pattern = [\"PETROLSTATION\"]\n",
    "petrol_pattern = '|'.join(petrol_list_pattern)\n",
    "petrol_mask = bk_one[\"Description\"].str.contains(petrol_pattern)\n",
    "bk_one.loc[petrol_mask, 'Category'] = \"Petrol\"\n",
    "\n",
    "# label items as healthcare service category\n",
    "healthcare_list_pattern = [\"DENTIST\"]\n",
    "healthcare_pattern = '|'.join(healthcare_list_pattern)\n",
    "healthcare_mask = bk_one[\"Description\"].str.contains(healthcare_pattern)\n",
    "bk_one.loc[healthcare_mask, 'Category'] = \"Healthcare\"\n",
    "\n",
    "# label items as water utility\n",
    "water_util_list_pattern = [\"WATERSUPPLIER\"]\n",
    "water_util_pattern = '|'.join(water_util_list_pattern)\n",
    "water_util_mask = bk_one[\"Description\"].str.contains(water_util_pattern)\n",
    "bk_one.loc[water_util_mask, 'Category'] = \"Water utility bill\"\n",
    "\n",
    "# label items as electricity and gas utility\n",
    "elec_gas_util_list_pattern = [\"GASSUP\", \"ELECTRICITYSUP\"]\n",
    "elec_gas_util_pattern = '|'.join(elec_gas_util_list_pattern)\n",
    "elec_gas_util_mask = bk_one[\"Description\"].str.contains(elec_gas_util_pattern)\n",
    "bk_one.loc[elec_gas_util_mask, 'Category'] = \"Electricity and Gas utility bill\"\n",
    "\n",
    "# label items as credit card utility\n",
    "creditcard_list_pattern = [\"CREDIT CARD\"]\n",
    "creditcard_pattern = '|'.join(creditcard_list_pattern)\n",
    "creditcard_mask = bk_one[\"Description\"].str.contains(creditcard_pattern)\n",
    "bk_one.loc[creditcard_mask, 'Category'] = \"Credit Card\"\n",
    "\n",
    "# fill Description savings\n",
    "sav_mask = (((bk_one[\"Type\"] == \"BP\") | (bk_one[\"Type\"] == \"OBP\")) & (bk_one[\"Debit\"] > 100.0)) | (bk_one[\"Description\"].str.contains(\"SAVINGS\"))\n",
    "bk_one.loc[sav_mask, 'Description'] = \"SAVINGS\"\n",
    "bk_one.loc[sav_mask, 'Category'] = \"Savings\"\n",
    "\n",
    "# fill Description Salary/Expense refunds \n",
    "salary_mask = ((bk_one[\"Type\"] == \"CR\") & (bk_one[\"Credit\"] > 200.0)) | (bk_one[\"Description\"].str.contains(\"EMPLOYER\"))\n",
    "bk_one.loc[salary_mask, 'Description'] = \"SALARY\"\n",
    "bk_one.loc[salary_mask, 'Category'] = \"Salary/Expense refunds\""
   ]
  },
  {
   "cell_type": "markdown",
   "metadata": {},
   "source": [
    "##### Check if all expenses have a category; if nothing shown here, all transactions have a category allocated to it, otherwise respective entries will be shown here"
   ]
  },
  {
   "cell_type": "code",
   "execution_count": null,
   "metadata": {},
   "outputs": [],
   "source": [
    "#check if any entries in Category are NaN; if so aim to categorise these\n",
    "#if nothing shown no entries found\n",
    "bk_one[bk_one[\"Category\"].isnull()]\n",
    "#len(bk_one[bk_one[\"Category\"].isnull()])"
   ]
  },
  {
   "cell_type": "markdown",
   "metadata": {},
   "source": [
    "#### High level analysis focus on 2021\n",
    " - show expenses according to category\n",
    " - show monthly spending \n",
    " - savings\n",
    " - total_expenses\n",
    " - salary"
   ]
  },
  {
   "cell_type": "markdown",
   "metadata": {},
   "source": [
    "#### Show overall expenses according to category, including savings and monthly breakdown"
   ]
  },
  {
   "cell_type": "code",
   "execution_count": null,
   "metadata": {
    "scrolled": true
   },
   "outputs": [],
   "source": [
    "#specify year to analyse. if all years taken into account simply \n",
    "#assign entire bk_one df to bk_one_2021 instead of bk_one[bk_one[\"Year\"] == 2021]\n",
    "bk_one_2021 = bk_one[bk_one[\"Year\"] == 2021]\n",
    "ov_expense = bk_one_2021.groupby([\"Category\"])[\"Debit\"].sum()\n",
    "print(\"Overall expense for 2021 for respective category: \\n\")\n",
    "print(ov_expense)"
   ]
  },
  {
   "cell_type": "code",
   "execution_count": null,
   "metadata": {},
   "outputs": [],
   "source": [
    "#monthly breakdown\n",
    "ov_expense_monthly_bd = bk_one_2021.groupby([\"Month\",\"Category\"])[\"Debit\"].sum()\n",
    "print(\"Overall monthly expense for 2021 for respective category: \\n\")\n",
    "print(ov_expense_monthly_bd.reset_index())"
   ]
  },
  {
   "cell_type": "markdown",
   "metadata": {},
   "source": [
    "#### Show monthly spending (including any deductions from account for savings)"
   ]
  },
  {
   "cell_type": "code",
   "execution_count": null,
   "metadata": {},
   "outputs": [],
   "source": [
    "spending_monthly_grouped_month = bk_one_2021.groupby([\"Month\", \"Year\"])[\"Debit\"].sum()\n",
    "spending_monthly_grouped_month"
   ]
  },
  {
   "cell_type": "markdown",
   "metadata": {},
   "source": [
    "#### Salary dataframe, total salary and monthly breakdown"
   ]
  },
  {
   "cell_type": "code",
   "execution_count": null,
   "metadata": {},
   "outputs": [],
   "source": [
    "bk_salary_index = bk_one_2021[\"Description\"].str.contains(\"SALARY\")\n",
    "salary_df = bk_one_2021.loc[bk_salary_index]\n",
    "#salary_df"
   ]
  },
  {
   "cell_type": "code",
   "execution_count": null,
   "metadata": {},
   "outputs": [],
   "source": [
    "total_salary = salary_df[\"Credit\"].sum().round(2)\n",
    "print(\"Total salary:\")\n",
    "print(total_salary)"
   ]
  },
  {
   "cell_type": "code",
   "execution_count": null,
   "metadata": {},
   "outputs": [],
   "source": [
    "salary_df_grouped_month = salary_df.groupby([\"Month\", \"Year\"])[\"Credit\"].sum()\n",
    "salary_df_grouped_month"
   ]
  },
  {
   "cell_type": "markdown",
   "metadata": {},
   "source": [
    "#### Savings total_amount and monthly basis"
   ]
  },
  {
   "cell_type": "code",
   "execution_count": null,
   "metadata": {},
   "outputs": [],
   "source": [
    "bk_one_savings_index_2021 = bk_one_2021[\"Description\"].str.contains(\"SAVINGS\")\n",
    "savings_df = bk_one_2021.loc[bk_one_savings_index_2021]\n",
    "savings_amount = savings_df.iloc[:,3].sum()\n",
    "print(\"Total savings transfered:\")\n",
    "print(savings_amount)\n",
    "\n",
    "print(\"Savings transfered monthly breakdown:\")\n",
    "savings_df_grouped_month = savings_df.groupby([\"Month\", \"Year\"])[\"Debit\"].sum()\n",
    "print(savings_df_grouped_month)\n",
    "\n",
    "#savings_df"
   ]
  },
  {
   "cell_type": "markdown",
   "metadata": {},
   "source": [
    "#### Living expenses calculated as total_expenses from account minus savings_amount"
   ]
  },
  {
   "cell_type": "code",
   "execution_count": null,
   "metadata": {},
   "outputs": [],
   "source": [
    "total_expenses = bk_one_2021[\"Debit\"].sum()\n",
    "expenses_2021 = total_expenses - savings_amount\n",
    "print(\"Expenses other than savings for 2021,\")\n",
    "print(\"calculated as total expenses - savings_amount\")\n",
    "print(expenses_2021.round(2))"
   ]
  },
  {
   "cell_type": "markdown",
   "metadata": {},
   "source": [
    "#### Summary of monthly_grouped data \n",
    " - spending \n",
    " - salary\n",
    " - savings"
   ]
  },
  {
   "cell_type": "code",
   "execution_count": null,
   "metadata": {},
   "outputs": [],
   "source": [
    "print(spending_monthly_grouped_month)\n",
    "print(salary_df_grouped_month)\n",
    "print(savings_df_grouped_month)"
   ]
  },
  {
   "cell_type": "markdown",
   "metadata": {},
   "source": [
    "#### Concatenate Series into summary dataframe containing monthly info on:\n",
    " - spending\n",
    " - salary\n",
    " - savings"
   ]
  },
  {
   "cell_type": "code",
   "execution_count": null,
   "metadata": {},
   "outputs": [],
   "source": [
    "summary_df = pd.concat([spending_monthly_grouped_month, salary_df_grouped_month, savings_df_grouped_month], axis=1)\n",
    "summary_df.columns = [\"Expense £\", \"Salary £\", \"Savings £\"]"
   ]
  },
  {
   "cell_type": "code",
   "execution_count": null,
   "metadata": {},
   "outputs": [],
   "source": [
    "#fill every NaN with 0 for calculation purposes\n",
    "summary_df = summary_df.fillna(0)"
   ]
  },
  {
   "cell_type": "code",
   "execution_count": null,
   "metadata": {},
   "outputs": [],
   "source": [
    "#calculate living expenses as per below and attach column\n",
    "summary_df[\"Living Expense £\"] = summary_df[\"Expense £\"] - summary_df[\"Savings £\"]\n",
    "#summary_df"
   ]
  },
  {
   "cell_type": "code",
   "execution_count": null,
   "metadata": {},
   "outputs": [],
   "source": [
    "#make index to columns; i.e., turn index month and year into columns\n",
    "sum_df = summary_df.reset_index()\n",
    "sum_df"
   ]
  },
  {
   "cell_type": "code",
   "execution_count": null,
   "metadata": {
    "scrolled": true
   },
   "outputs": [],
   "source": [
    "sum_df_melt = sum_df.melt(['Month', 'Year'], var_name='Expense type',  value_name='Money £')\n",
    "g = sns.catplot(x='Month', y=\"Money £\", hue='Expense type', data=sum_df_melt, kind='point', height=3, aspect=2)"
   ]
  },
  {
   "cell_type": "markdown",
   "metadata": {},
   "source": [
    "#### Visual examination/summary of changes in spending categories over months"
   ]
  },
  {
   "cell_type": "code",
   "execution_count": null,
   "metadata": {},
   "outputs": [],
   "source": [
    "#create dataframe out respective series (to_frame(), and reset_index() to make indices to columns)\n",
    "sum_cat_month = bk_one_2021.groupby([\"Month\", \"Category\"])[\"Debit\"].sum().to_frame().reset_index()\n",
    "#sum_cat_month"
   ]
  },
  {
   "cell_type": "code",
   "execution_count": null,
   "metadata": {},
   "outputs": [],
   "source": [
    "#splitting df sum_cat_month into chunks based on month (categorues can be different depending on month)\n",
    "sum_cat_drop_month_list = [pd.DataFrame(y) for x, y in sum_cat_month.groupby('Month', as_index=False)]\n",
    "\n",
    "#check if categories of dfs in list are unique each to check if splitting occured ok\n",
    "#test ok if return is True, otherwise if False problem occured\n",
    "for item in sum_cat_drop_month_list:\n",
    "    print(item[\"Category\"].is_unique)"
   ]
  },
  {
   "cell_type": "code",
   "execution_count": null,
   "metadata": {},
   "outputs": [],
   "source": [
    "#set \"Category\" column as index and concat all dataframes in the list on that index \n",
    "sum_cat_drop_month_index = [df.set_index('Category') for df in sum_cat_drop_month_list]\n",
    "sum_cat_drop_month_index\n",
    "\n",
    "summary_expense_category_along_months = pd.concat(sum_cat_drop_month_index, axis=1)\n",
    "\n",
    "#keep columns named Debit and rename those according to month\n",
    "secam = summary_expense_category_along_months[\"Debit\"]\n",
    "#rename columns\n",
    "column_names = []\n",
    "for i in range(0, secam.shape[1]):\n",
    "    col_name = \"Month_\" + str(i+1)\n",
    "    column_names.append(col_name)\n",
    "secam.columns = column_names\n",
    "\n",
    "#transpose the df to swap index and columns - using T attribute; alternative would be transpoase()\n",
    "secam_t = secam.T\n",
    "secam_t = secam_t.fillna(0)\n",
    "secam_t    "
   ]
  },
  {
   "cell_type": "code",
   "execution_count": null,
   "metadata": {},
   "outputs": [],
   "source": [
    "sns.set_palette(\"husl\")\n",
    "#sns.set_palette(\"PuBuGn_d\")\n",
    "#filled_markers = ('o', 'v', '^', '<', '>', '8', 's', 'p', '*', 'h', 'H', 'D', 'd', 'P', 'X')\n",
    "#fig = sns.lineplot(data=secam_t, dashes=False, markers = filled_markers)\n",
    "fig = sns.lineplot(data=secam_t, dashes=False)\n",
    "plt.xlabel(\"Month\")\n",
    "plt.xticks(rotation=90)\n",
    "plt.ylabel(\"Money £\")\n",
    "plt.title(\"Spending in categories across months\")\n",
    "plt.legend(bbox_to_anchor=(1.05, 1), loc=2, borderaxespad=0.)\n",
    "plt.show(fig)"
   ]
  },
  {
   "cell_type": "code",
   "execution_count": null,
   "metadata": {},
   "outputs": [],
   "source": [
    "#secam_t .mean()"
   ]
  }
 ],
 "metadata": {
  "kernelspec": {
   "display_name": "Python 3",
   "language": "python",
   "name": "python3"
  },
  "language_info": {
   "codemirror_mode": {
    "name": "ipython",
    "version": 3
   },
   "file_extension": ".py",
   "mimetype": "text/x-python",
   "name": "python",
   "nbconvert_exporter": "python",
   "pygments_lexer": "ipython3",
   "version": "3.7.6"
  }
 },
 "nbformat": 4,
 "nbformat_minor": 4
}
